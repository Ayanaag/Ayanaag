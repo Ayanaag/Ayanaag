{
  "nbformat": 4,
  "nbformat_minor": 0,
  "metadata": {
    "colab": {
      "name": "Фунеции.ipynb",
      "provenance": [],
      "collapsed_sections": []
    },
    "kernelspec": {
      "name": "python3",
      "display_name": "Python 3"
    },
    "language_info": {
      "name": "python"
    }
  },
  "cells": [
    {
      "cell_type": "markdown",
      "metadata": {
        "id": "I3cIqq1_avyx"
      },
      "source": [
        "# Функции. Домашнее задание\n",
        "\n",
        "В домашнем задании есть обязательные и дополнительные задачи.\n",
        "\n",
        "*Обязательные задачи* нужно сделать, чтобы проверить, что вы действительно усвоили материал модуля. Они обязательны к загрузке на проверку преподавателю.\n",
        "\n",
        "*Дополнительные задачи* для тех, кто чувствует, что нужно ещё немного потренироваться и порешать задачки по программированию. Вы также можете загрузить их на проверку преподавателю и получить по ним обратную связь.\n",
        "\n",
        "Удачи!\n"
      ]
    },
    {
      "cell_type": "markdown",
      "metadata": {
        "id": "TaxnMjUDcPku"
      },
      "source": [
        "---"
      ]
    },
    {
      "cell_type": "markdown",
      "metadata": {
        "id": "mF7WQFldayeZ"
      },
      "source": [
        "**Цели домашнего задания:**\n",
        "1. Научиться декомпозировать код с помощью функций.\n",
        "2. Попрактиковаться в использовании встроенных функций и методов.\n",
        "3. Проверить понимание и умение работать с рекурсивными функциями.\n",
        "4. Отработать обработку текстовых данных.\n",
        "\n"
      ]
    },
    {
      "cell_type": "markdown",
      "metadata": {
        "id": "qrO7Cn2EeUP9"
      },
      "source": [
        "**Что входит в домашнее задание:**\n",
        "1. *Обязательные задачи*:\n",
        "- Конвертация валют.\n",
        "- Обработка анкет.\n",
        "- Факториал.\n",
        "- Палиндром\n",
        "\n",
        "2. *Дополнительные задачи*:\n",
        "- Количество цифр в числе.\n",
        "- Количество отличников и двоечников.\n",
        "- Калькулятор.\n",
        "\n"
      ]
    },
    {
      "cell_type": "markdown",
      "metadata": {
        "id": "JyaO4C1veWzM"
      },
      "source": [
        "**Критерии оценки:**\n",
        "- программа выдаёт верный ответ на разных наборах входных данных;\n",
        "- код читабелен: переменным даны осмысленные названия, отступы и правила расстановки пробелов соблюдены;\n",
        "- код соответствует принципу DRY и декомпозирован с помощью функций.\n",
        "\n",
        "\n",
        "**Как отправить задание на проверку**\n",
        "\n",
        "Выполните задачи, сохраните изменения при помощи опции Save and Checkpoint из вкладки меню File или кнопки Save and Checkpoint на панели инструментов. Отправьте через форму на платформе итоговый файл Jupyter Notebook (в формате .ipynb) или ссылку на него."
      ]
    },
    {
      "cell_type": "markdown",
      "metadata": {
        "id": "qSDMGVxpbOMM"
      },
      "source": [
        "\n",
        "\n",
        "---\n",
        "\n",
        "\n",
        "\n",
        "---\n",
        "\n"
      ]
    },
    {
      "cell_type": "markdown",
      "metadata": {
        "id": "6m31Ptr8tFdp"
      },
      "source": [
        "**Обязательные задачи**"
      ]
    },
    {
      "cell_type": "markdown",
      "metadata": {
        "id": "1nI8YsZQ8xvq"
      },
      "source": [
        "*Задача 1. Конвертация валют*\n",
        "\n",
        "Напишите функцию `rub_to_currency`, которая переводит деньги в рублях в одну из двух валют: USD или CNY. У функции должно быть два входных параметра:\n",
        "1. `rub_amount` — деньги в рублях;\n",
        "2.  `currency` — валюта, в которую нужно совершить перевод. Если второй параметр не указан, по умолчанию следует считать его равным USD.\n",
        "\n",
        "На выходе функция должна вывести на экран, сколько рублей было дано в начале и сколько денег получилось в заданной валюте. В случае с китайским юанем также нужно вывести промежуточное значение в долларах. Если на вход в `currency` приходит невалидное значение, нужно вывести на экран сообщение: «Расчёт не может быть совершён».\n",
        "\n",
        "Декомпозируйте данную задачу на несколько функций.\n",
        "\n",
        "Проверьте, что функция `rub_to_currency` в последующих ячейках отработала верно."
      ]
    },
    {
      "cell_type": "code",
      "metadata": {
        "id": "u1pxlf7BDNa4"
      },
      "source": [
        "# Создайте вспомогательные функции для перевода в доллар и китайский юань\n",
        "# Считайте курс доллара к рублю следующим: 1USD = 70,99RUB, курс доллара к юаню: 1USD = 6,44CNY\n",
        "def rub_to_USD(rub): \n",
        "  return rub/70.99\n",
        "\n",
        "\n"
      ],
      "execution_count": null,
      "outputs": []
    },
    {
      "cell_type": "code",
      "source": [
        "def rub_to_CNY(rub): \n",
        "  return rub/70.99 * 6.44"
      ],
      "metadata": {
        "id": "NbazklAdxsQm"
      },
      "execution_count": null,
      "outputs": []
    },
    {
      "cell_type": "code",
      "metadata": {
        "id": "HBAVvL_-qSCC"
      },
      "source": [
        "def rub_to_currency(rub_amount, currency = None):\n",
        "    # функция без return  \n",
        "    \n",
        "    if currency == \"USD\": \n",
        "      print(f\"было: {rub_amount} RUB, стало: {rub_to_USD(rub_amount)} USD\")\n",
        "    \n",
        "    elif currency == \"CNY\": \n",
        "      print(f\"было: {rub_amount} RUB, стало: {rub_to_USD(rub_amount)} USD\")\n",
        "      print(f\"было: {rub_amount} RUB, стало: {rub_to_CNY(rub_amount)} CNY\")\n",
        "\n",
        "    elif currency == None: \n",
        "      print(f\"было: {rub_amount} RUB, стало: {rub_to_USD(rub_amount)} USD\")\n",
        "    \n",
        "    else: \n",
        "      print('Расчет не может быть совершен')\n",
        " "
      ],
      "execution_count": null,
      "outputs": []
    },
    {
      "cell_type": "code",
      "source": [
        "rub_to_currency(7200, 'USD')"
      ],
      "metadata": {
        "colab": {
          "base_uri": "https://localhost:8080/"
        },
        "id": "KIjDclo1XTNp",
        "outputId": "9f64ee24-25d5-46bd-8fba-3f9537d57262"
      },
      "execution_count": null,
      "outputs": [
        {
          "output_type": "stream",
          "name": "stdout",
          "text": [
            "было: 7200 RUB, стало: 101.4227355965629 USD\n"
          ]
        }
      ]
    },
    {
      "cell_type": "code",
      "source": [
        "rub_to_currency(7200, 'CNY')"
      ],
      "metadata": {
        "colab": {
          "base_uri": "https://localhost:8080/"
        },
        "id": "yG-7FIiaYB3d",
        "outputId": "d85a0e16-187b-4d74-83aa-55f570cb223f"
      },
      "execution_count": null,
      "outputs": [
        {
          "output_type": "stream",
          "name": "stdout",
          "text": [
            "было: 7200 RUB, стало: 101.4227355965629 USD\n",
            "было: 7200 RUB, стало: 653.1624172418651 CNY\n"
          ]
        }
      ]
    },
    {
      "cell_type": "code",
      "source": [
        "rub_to_currency(7200, 'EUR')"
      ],
      "metadata": {
        "colab": {
          "base_uri": "https://localhost:8080/"
        },
        "id": "dt5s8PoVYITX",
        "outputId": "c1cb7a8c-a89d-425c-a2b6-38d70b68b570"
      },
      "execution_count": null,
      "outputs": [
        {
          "output_type": "stream",
          "name": "stdout",
          "text": [
            "Расчет не может быть совершен\n"
          ]
        }
      ]
    },
    {
      "cell_type": "code",
      "source": [
        "rub_to_currency(7200)"
      ],
      "metadata": {
        "colab": {
          "base_uri": "https://localhost:8080/"
        },
        "id": "_FfZFjB6YceA",
        "outputId": "51b91349-4772-4f95-e0f2-828113b0cff4"
      },
      "execution_count": null,
      "outputs": [
        {
          "output_type": "stream",
          "name": "stdout",
          "text": [
            "было: 7200 RUB, стало: 101.4227355965629 USD\n"
          ]
        }
      ]
    },
    {
      "cell_type": "code",
      "source": [
        ""
      ],
      "metadata": {
        "id": "b8Q87qByYaq4"
      },
      "execution_count": null,
      "outputs": []
    },
    {
      "cell_type": "markdown",
      "metadata": {
        "id": "1YIw6X35mR5U"
      },
      "source": [
        "*Задача 2. Обработка анкет*\n",
        "\n",
        "Вам выгрузили список с анкетами потенциальных клиентов, которые заинтересовались покупкой подписки на здоровую еду. Вам нужно обработать эти значения и сказать, какие анкеты подходят (а какие нет) для дальнейшего обзвона колл-центром.\n",
        "\n",
        "Условия, которым должна удовлетворять анкета:\n",
        "* Есть контактная информация: номер телефона.\n",
        "* Контактный номер начинается либо с восьмёрки, либо с семёрки и состоит из десяти символов.\n",
        "* Город проживания: Москва.\n",
        "\n",
        "Пример анкеты выглядит следующим образом: `name=Аня,phone=8800234 , city=москва`. Заметьте, в значениях параметров городов, имён, номеров телефонов могут встретиться лишние пробелы. Попробуйте удалить их с помощью метода `replace`.\n"
      ]
    },
    {
      "cell_type": "code",
      "metadata": {
        "colab": {
          "base_uri": "https://localhost:8080/"
        },
        "id": "t_BdijwS72m2",
        "outputId": "3d41f073-36fc-4f19-a580-132234b628b6"
      },
      "source": [
        "# Метод replace заменяет все вхождения строки, указанной первым аргументом, на строку, указанную вторым аргументом\n",
        "\n",
        "# Замена восклицательного знака на пустоту\n",
        "print('!!!aaaa'.replace('!',''))\n",
        "# Замена а на вопросительный знак\n",
        "print('!!!aaaa'.replace('a','?'))\n",
        "# Замена двух восклицательных знаков на вопросительный\n",
        "print('!!!aaaa'.replace('!!','?'))"
      ],
      "execution_count": null,
      "outputs": [
        {
          "output_type": "stream",
          "name": "stdout",
          "text": [
            "aaaa\n",
            "!!!????\n",
            "?!aaaa\n"
          ]
        }
      ]
    },
    {
      "cell_type": "code",
      "metadata": {
        "id": "bQFctEmbrezu"
      },
      "source": [
        "applications = [\n",
        "         'name=Аня,phone=8800234 ,city=москва',\n",
        "         'name=КОЛЯ,phone=8800900871 ,city=МОСКВА',\n",
        "         'name=Валентина,phone=7950900871 ,city=волгоград',\n",
        "         'name=,phone=7999901871,city=москва',\n",
        "         'name=Иван,phone=7999901871,city=москва',\n",
        "         'name=Инга,phone=,city=москва'\n",
        "\n",
        "]\n"
      ],
      "execution_count": null,
      "outputs": []
    },
    {
      "cell_type": "code",
      "metadata": {
        "id": "pLEy-WBWswti"
      },
      "source": [
        "from typing import NamedTuple\n",
        "# функция проверки валидности номера\n",
        "def check_phone(phone):\n",
        "  \n",
        "  norm_phone = phone.replace(' ','') \n",
        "  only_phone = norm_phone[6:]\n",
        "  #Ваш код здесь\n",
        "  if len(only_phone) == 10 and (only_phone[0] == '8' or only_phone[0] == '7'): \n",
        "    return True\n",
        " \n",
        "  elif len(only_phone) == 0: \n",
        "    return False\n",
        "\n",
        "  else: \n",
        "    return False\n",
        "\n"
      ],
      "execution_count": null,
      "outputs": []
    },
    {
      "cell_type": "code",
      "source": [
        "# функция проверки города\n",
        "def check_city(city):\n",
        "  #Ваш код здесь\n",
        "  normalized_city = city.lower()\n",
        "  index = normalized_city.find('москва')\n",
        "  if index != -1: \n",
        "    return True \n",
        "  \n",
        "  else: \n",
        "    return False  "
      ],
      "metadata": {
        "id": "2pW1So5iXf8l"
      },
      "execution_count": null,
      "outputs": []
    },
    {
      "cell_type": "code",
      "source": [
        "# функция проверки одной анкеты\n",
        "def check_application(application):\n",
        "  #Ваш код здесь\n",
        "    phone_number = check_phone(application.split(\",\")[1])\n",
        "    city_name = check_city(application.split(\",\")[2])\n",
        "    \n",
        "    return phone_number and city_name\n",
        "   "
      ],
      "metadata": {
        "id": "ryaUgjWGXiE6"
      },
      "execution_count": null,
      "outputs": []
    },
    {
      "cell_type": "code",
      "metadata": {
        "id": "Cd5SqD6cset6"
      },
      "source": [
        "# функция проверки списка анкет\n",
        "def find_valid_applications(applications):\n",
        "  #Ваш код здесь\n",
        "  for application in applications: \n",
        "    result = check_application(application)\n",
        "    print(f\"{application} --- {result}\")\n"
      ],
      "execution_count": null,
      "outputs": []
    },
    {
      "cell_type": "markdown",
      "metadata": {
        "id": "F8ISsSdO8hL8"
      },
      "source": [
        "Результат функции должен быть напечатан на экран в следующем виде:"
      ]
    },
    {
      "cell_type": "code",
      "metadata": {
        "id": "S7JfnKlE2k8n",
        "colab": {
          "base_uri": "https://localhost:8080/"
        },
        "outputId": "7f82ce95-fac3-4a7b-8ac8-b5051ce1fde9"
      },
      "source": [
        "find_valid_applications(applications)"
      ],
      "execution_count": null,
      "outputs": [
        {
          "output_type": "stream",
          "name": "stdout",
          "text": [
            "name=Аня,phone=8800234 ,city=москва --- False\n",
            "name=КОЛЯ,phone=8800900871 ,city=МОСКВА --- True\n",
            "name=Валентина,phone=7950900871 ,city=волгоград --- False\n",
            "name=,phone=7999901871,city=москва --- True\n",
            "name=Иван,phone=7999901871,city=москва --- True\n",
            "name=Инга,phone=,city=москва --- False\n"
          ]
        }
      ]
    },
    {
      "cell_type": "markdown",
      "metadata": {
        "id": "c3X805npAhXG"
      },
      "source": [
        "*Задача 3. Факториал*\n",
        "\n",
        "Факториалом числа n называется произведение всех натуральных чисел от 1 до n.\n",
        "\n",
        "\n",
        "\n",
        "> n! = 1 \\* 2 \\*...\\* n\n",
        "\n",
        "> 3! = 1 \\* 2 \\* 3 = 6\n",
        "\n",
        "> 0! = 1\n",
        "\n",
        "Напишите рекурсивную функцию нахождения факториала, где входным параметром является одно единственное число — n. Проверьте, что функция в последующих ячейках отработала верно.\n",
        "\n",
        "\n",
        "\n",
        "\n",
        "\n",
        "\n",
        "\n"
      ]
    },
    {
      "cell_type": "code",
      "metadata": {
        "id": "qD9afK3cC2GY"
      },
      "source": [
        "# Ваш код здесь\n",
        "def factorial(n): \n",
        "  if n == 0: \n",
        "    return 1\n",
        "  else: \n",
        "    return n * factorial(n-1)"
      ],
      "execution_count": null,
      "outputs": []
    },
    {
      "cell_type": "code",
      "metadata": {
        "id": "w1WpXrpCCta8",
        "colab": {
          "base_uri": "https://localhost:8080/"
        },
        "outputId": "e908244f-0cec-4d88-8238-0d1597b3e85b"
      },
      "source": [
        "factorial(1)"
      ],
      "execution_count": null,
      "outputs": [
        {
          "output_type": "execute_result",
          "data": {
            "text/plain": [
              "1"
            ]
          },
          "metadata": {},
          "execution_count": 7
        }
      ]
    },
    {
      "cell_type": "code",
      "metadata": {
        "id": "5ZE9XanICvZJ",
        "colab": {
          "base_uri": "https://localhost:8080/"
        },
        "outputId": "ff3f121d-7d85-4e7a-e84d-37a9282c9167"
      },
      "source": [
        "factorial(0)"
      ],
      "execution_count": null,
      "outputs": [
        {
          "output_type": "execute_result",
          "data": {
            "text/plain": [
              "1"
            ]
          },
          "metadata": {},
          "execution_count": 8
        }
      ]
    },
    {
      "cell_type": "code",
      "metadata": {
        "id": "oGZg0EDkCw6H",
        "colab": {
          "base_uri": "https://localhost:8080/"
        },
        "outputId": "1d1142bd-76b1-4e8b-8ba3-89777645ac84"
      },
      "source": [
        "factorial(4)"
      ],
      "execution_count": null,
      "outputs": [
        {
          "output_type": "execute_result",
          "data": {
            "text/plain": [
              "24"
            ]
          },
          "metadata": {},
          "execution_count": 11
        }
      ]
    },
    {
      "cell_type": "markdown",
      "metadata": {
        "id": "Bit-nevse14o"
      },
      "source": [
        "*Задача 4. Палиндром*\n",
        "\n",
        "Палиндромом называется такое слово (или фраза), которое слева направо и справа налево читается одинаково. Нужно написать рекурсивную функцию, которая будет возвращать `True`, если слово палиндром, и `False`, если нет.\n",
        "\n",
        "Будем считать, что пустая строка также является палиндромом.\n",
        "\n",
        "Решение должно работать на строках без знаков препинания. Проверьте, что функция в последующих ячейках отработала верно.\n",
        "\n"
      ]
    },
    {
      "cell_type": "code",
      "metadata": {
        "id": "IHePFicik7Ih"
      },
      "source": [
        "def palindrom(text):\n",
        "  # Ваш код здесь\n",
        "  norm_text = text.replace(' ','')\n",
        "  text_lower = norm_text.lower()\n",
        "  if len(text_lower) < 2: \n",
        "    return True \n",
        "  if text_lower[0] != text_lower[-1]:\n",
        "    return False  \n",
        "  else:\n",
        "    return palindrom(text_lower[1:-1])\n"
      ],
      "execution_count": null,
      "outputs": []
    },
    {
      "cell_type": "code",
      "metadata": {
        "id": "YAZcDrWRitX6",
        "colab": {
          "base_uri": "https://localhost:8080/"
        },
        "outputId": "3763b421-32a4-40a2-b3d2-64b18fa01d70"
      },
      "source": [
        "palindrom('saippuakivikauppias')"
      ],
      "execution_count": null,
      "outputs": [
        {
          "output_type": "execute_result",
          "data": {
            "text/plain": [
              "True"
            ]
          },
          "metadata": {},
          "execution_count": 6
        }
      ]
    },
    {
      "cell_type": "code",
      "metadata": {
        "id": "mGGspj3Fivdk",
        "colab": {
          "base_uri": "https://localhost:8080/"
        },
        "outputId": "facffc96-e259-4a46-aaac-a69b75ba83b0"
      },
      "source": [
        "palindrom('murmur')"
      ],
      "execution_count": null,
      "outputs": [
        {
          "output_type": "execute_result",
          "data": {
            "text/plain": [
              "False"
            ]
          },
          "metadata": {},
          "execution_count": 7
        }
      ]
    },
    {
      "cell_type": "code",
      "metadata": {
        "id": "5Nw0wTEPiwYV",
        "colab": {
          "base_uri": "https://localhost:8080/"
        },
        "outputId": "a50ca974-568d-4fde-d2ca-b50184c9b0d9"
      },
      "source": [
        "palindrom('В резерв')"
      ],
      "execution_count": null,
      "outputs": [
        {
          "output_type": "execute_result",
          "data": {
            "text/plain": [
              "True"
            ]
          },
          "metadata": {},
          "execution_count": 8
        }
      ]
    },
    {
      "cell_type": "code",
      "metadata": {
        "id": "Kb9qX0ZDjaWu",
        "colab": {
          "base_uri": "https://localhost:8080/"
        },
        "outputId": "7c554ff1-c8d7-43eb-a260-f816103c58a3"
      },
      "source": [
        "palindrom('Sator Arepo tenet opera rotas')"
      ],
      "execution_count": null,
      "outputs": [
        {
          "output_type": "execute_result",
          "data": {
            "text/plain": [
              "True"
            ]
          },
          "metadata": {},
          "execution_count": 9
        }
      ]
    },
    {
      "cell_type": "markdown",
      "metadata": {
        "id": "FzHBlVyLDJCI"
      },
      "source": [
        "\n",
        "\n",
        "---\n",
        "\n",
        "\n",
        "\n",
        "---\n",
        "\n"
      ]
    },
    {
      "cell_type": "markdown",
      "metadata": {
        "id": "urJcsE1JDEjB"
      },
      "source": [
        "**Дополнительные задачи**"
      ]
    },
    {
      "cell_type": "markdown",
      "metadata": {
        "id": "VEgXwB5SH0LL"
      },
      "source": [
        "*Задача 5. Количество цифр в числе*\n",
        "\n",
        "Напишите функцию, которая рассчитывает количество цифр в целом числе, приходящем ей на вход.\n",
        "\n",
        "Рассмотрите два способа решения данной задачи: через строковые переменные и без использования строковых переменных.\n",
        "\n",
        "**Пример:**\n",
        "<br>\n",
        "Input: `n = 1234567` \n",
        "<br>\n",
        "Output: `7`"
      ]
    },
    {
      "cell_type": "code",
      "metadata": {
        "id": "IOxO5n6dwPWy"
      },
      "source": [
        "# Ваш код здесь \n",
        "def calculate_number(n):\n",
        "  digits = len(str(n))\n",
        "  return digits\n",
        "\n"
      ],
      "execution_count": null,
      "outputs": []
    },
    {
      "cell_type": "code",
      "source": [
        "calculate_number(1234567)"
      ],
      "metadata": {
        "id": "NQBhkXJQQbs3",
        "colab": {
          "base_uri": "https://localhost:8080/"
        },
        "outputId": "854fd0e0-602b-4952-bcd8-adf86896fc84"
      },
      "execution_count": null,
      "outputs": [
        {
          "output_type": "execute_result",
          "data": {
            "text/plain": [
              "7"
            ]
          },
          "metadata": {},
          "execution_count": 6
        }
      ]
    },
    {
      "cell_type": "code",
      "source": [
        "def calculate(n):\n",
        "  count = 0\n",
        "  while n >= 1:\n",
        "    n /= 10\n",
        "    count += 1 \n",
        "  return count\n"
      ],
      "metadata": {
        "id": "Zni6j3BrgavD"
      },
      "execution_count": null,
      "outputs": []
    },
    {
      "cell_type": "code",
      "source": [
        "calculate(1234567)"
      ],
      "metadata": {
        "colab": {
          "base_uri": "https://localhost:8080/"
        },
        "id": "sec4HZeghdLA",
        "outputId": "6e4a3f7f-3476-4fe3-fdbb-5ac8a3021f57"
      },
      "execution_count": null,
      "outputs": [
        {
          "output_type": "execute_result",
          "data": {
            "text/plain": [
              "7"
            ]
          },
          "metadata": {},
          "execution_count": 13
        }
      ]
    },
    {
      "cell_type": "code",
      "metadata": {
        "id": "IcmxuRHwCGzK"
      },
      "source": [
        ""
      ],
      "execution_count": null,
      "outputs": []
    }
  ]
}