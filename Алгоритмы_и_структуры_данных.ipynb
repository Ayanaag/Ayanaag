{
  "nbformat": 4,
  "nbformat_minor": 0,
  "metadata": {
    "colab": {
      "name": "Алгоритмы и структуры данных.ipynb",
      "provenance": [],
      "collapsed_sections": []
    },
    "kernelspec": {
      "name": "python3",
      "display_name": "Python 3"
    },
    "language_info": {
      "name": "python"
    }
  },
  "cells": [
    {
      "cell_type": "markdown",
      "metadata": {
        "id": "zUqy3u0mOqRA"
      },
      "source": [
        "# Алгоритмы и структуры данных. Домашнее задание\n",
        "\n",
        "В домашнем задании есть обязательные и дополнительные задачи.\n",
        "\n",
        "*Обязательные задачи* нужно сделать, чтобы проверить, что вы действительно усвоили материал модуля. Они обязательны к загрузке на проверку преподавателю.\n",
        "\n",
        "*Дополнительные задачи* для тех, кто чувствует, что нужно ещё немного потренироваться и порешать задачки по программированию. Вы также можете загрузить их на проверку преподавателю и получить по ним обратную связь.\n",
        "\n",
        "Удачи!\n"
      ]
    },
    {
      "cell_type": "markdown",
      "metadata": {
        "id": "5b2c9q-uRFgE"
      },
      "source": [
        "\n",
        "\n",
        "---\n",
        "\n",
        "\n",
        "\n",
        "---\n",
        "\n"
      ]
    },
    {
      "cell_type": "markdown",
      "metadata": {
        "id": "9YruChoFPlTH"
      },
      "source": [
        "**Цели домашнего задания:**\n",
        "1. Проверить умение работать со списками в Python, управлять их элементами с помощью циклов.\n",
        "2. Проверить понимание и умение воспроизвести алгоритмы сортировки и поисков.\n",
        "3. Научиться алгоритмизировать свои собственные оптимальные алгоритмы.\n"
      ]
    },
    {
      "cell_type": "markdown",
      "metadata": {
        "id": "s0ln3tQ_QZK4"
      },
      "source": [
        "**Что входит в домашнее задание:**\n",
        "1. *Обязательные задачи*:\n",
        "- два максимальных элемента в списке,\n",
        "- среднее значение по оценкам в списке,\n",
        "- одна из модификаций линейного поиска,\n",
        "- сложность бинарного поиска,\n",
        "- сортировка топ-2 элементов,\n",
        "- сравнительный анализ.\n",
        "2. *Дополнительные задачи*:\n",
        "- индекс минимального элемента в списке,\n",
        "- подсчёт чётных элементов в списке,\n",
        "- самая длинная цепочка пятёрок,\n",
        "0 сортировка вставкой.\n"
      ]
    },
    {
      "cell_type": "markdown",
      "metadata": {
        "id": "QLCrcUsFLTVr"
      },
      "source": [
        "**Критерии оценки:**\n",
        "- программа выдаёт верный ответ на разных наборах входных данных;\n",
        "- код читабелен: переменным даны осмысленные названия, отступы и правила расстановки пробелов соблюдены.\n",
        "\n",
        "\n"
      ]
    },
    {
      "cell_type": "markdown",
      "metadata": {
        "id": "UKH0UuMA7pyF"
      },
      "source": [
        "**Как отправить задание на проверку**\n",
        "\n",
        "Выполните задачи, сохраните изменения при помощи опции Save and Checkpoint из вкладки меню File или кнопки Save and Checkpoint на панели инструментов. Отправьте через форму на платформе итоговый файл Jupyter Notebook (в формате .ipynb) или ссылку на него."
      ]
    },
    {
      "cell_type": "markdown",
      "metadata": {
        "id": "hYa6ZRVRRHbE"
      },
      "source": [
        "\n",
        "\n",
        "---\n",
        "\n",
        "\n",
        "---\n",
        "\n"
      ]
    },
    {
      "cell_type": "markdown",
      "metadata": {
        "id": "UgcrtNvYQ_01"
      },
      "source": [
        "**Обязательные задачи**"
      ]
    },
    {
      "cell_type": "markdown",
      "metadata": {
        "id": "X2LdzwS1GoLq"
      },
      "source": [
        "***Задача 1. Два максимальных элемента в списке***\n",
        "\n",
        "Дан список трат клиента за неделю: `transactions`. Найдите две самые крупные траты клиента за неделю и выведите их на экран. Используйте алгоритм нахождения максимального элемента для решения задачи. \n",
        "<br>\n",
        "Проверьте, что программа работает на разных списках.\n",
        "\n",
        "Пример:\n",
        "<br>\n",
        "Input: `transactions = [100, 200, 300, 10, 499]` \n",
        "<br>\n",
        "Output: `300, 499`\n"
      ]
    },
    {
      "cell_type": "code",
      "metadata": {
        "id": "-yFvbUJ2OmsR"
      },
      "source": [
        "transactions = [100, 98, 1000, 2500, 299, 1898, 1989, 2001, 50, 10, 70]"
      ],
      "execution_count": null,
      "outputs": []
    },
    {
      "cell_type": "code",
      "metadata": {
        "id": "xg3SNvaQHcku",
        "colab": {
          "base_uri": "https://localhost:8080/"
        },
        "outputId": "bdc12d4a-553d-4b27-8b74-d9eef400b602"
      },
      "source": [
        "# Допишите инициализации переменных\n",
        "max_1 = transactions [0]\n",
        "max_2 = transactions [0]\n",
        "\n",
        "# Ваш код здесь\n",
        "for i in range (1, len(transactions)):\n",
        "  if max_1 < transactions [i]:\n",
        "    max_1 = transactions[i]\n",
        "for j in range (1, len(transactions)):\n",
        "  if max_1 > transactions [j] > max_2: \n",
        "    max_2 = transactions [j]\n",
        "\n",
        "print(max_1, max_2)"
      ],
      "execution_count": null,
      "outputs": [
        {
          "output_type": "stream",
          "name": "stdout",
          "text": [
            "2500 2001\n"
          ]
        }
      ]
    },
    {
      "cell_type": "code",
      "source": [
        "transactions = [100, 200, 300, 10, 499]"
      ],
      "metadata": {
        "id": "DkECw5hc9ZrQ"
      },
      "execution_count": null,
      "outputs": []
    },
    {
      "cell_type": "code",
      "source": [
        "# Допишите инициализации переменных\n",
        "max_1 = transactions [0]\n",
        "max_2 = transactions [0]\n",
        "\n",
        "# Ваш код здесь\n",
        "for i in range (1, len(transactions)):\n",
        "  if max_1 < transactions [i]:\n",
        "    max_1 = transactions[i]\n",
        "for j in range (1, len(transactions)):\n",
        "  if max_1 > transactions [j] > max_2: \n",
        "    max_2 = transactions [j]\n",
        "\n",
        "print(max_1, max_2)"
      ],
      "metadata": {
        "colab": {
          "base_uri": "https://localhost:8080/"
        },
        "id": "FqUCeRv69cIH",
        "outputId": "b522b5ad-4045-4a1a-b761-0daa2d53bc0d"
      },
      "execution_count": null,
      "outputs": [
        {
          "output_type": "stream",
          "name": "stdout",
          "text": [
            "499 300\n"
          ]
        }
      ]
    },
    {
      "cell_type": "markdown",
      "metadata": {
        "id": "vqvGyg8lyvZ9"
      },
      "source": [
        "***Задача 2. Среднее значение по оценкам в списке***\n",
        "\n",
        "Вспомним нашу задачу по аналитике на данных по оценкам от клиентов, записанных в `user_scores`. Мы считали максимальную, минимальную оценку. Теперь давайте посчитаем среднюю оценку от пользователей за день. \n",
        "<br>\n",
        "Проверьте, что ваша программа верно считает средние значения на разных списках.\n",
        "\n",
        "Пример:\n",
        "<br>\n",
        "Input: `user_scores = [3, 3, 5, 5, 1, 1]`\n",
        "<br>\n",
        "Output: `3`\n"
      ]
    },
    {
      "cell_type": "code",
      "metadata": {
        "id": "3wle-uodz3hq"
      },
      "source": [
        "user_scores = [1, 4, 5, 5, 5, 5, 5, 4, 4, 4, 3, 1]"
      ],
      "execution_count": null,
      "outputs": []
    },
    {
      "cell_type": "code",
      "metadata": {
        "id": "kETS0i4Mz-qw",
        "colab": {
          "base_uri": "https://localhost:8080/"
        },
        "outputId": "089d71e0-e968-4ef4-8477-9a3612a5bc9f"
      },
      "source": [
        "# Ваш код здесь\n",
        "sum = user_scores[0] \n",
        "for i in range (1, len(user_scores)):\n",
        "  sum += user_scores[i];\n",
        "  average = sum / len(user_scores)\n",
        "print (average)\n"
      ],
      "execution_count": null,
      "outputs": [
        {
          "output_type": "stream",
          "name": "stdout",
          "text": [
            "3.8333333333333335\n"
          ]
        }
      ]
    },
    {
      "cell_type": "code",
      "source": [
        "user_scores = [3, 3, 5, 5, 1, 1]"
      ],
      "metadata": {
        "id": "vg6Tu28a720F"
      },
      "execution_count": null,
      "outputs": []
    },
    {
      "cell_type": "code",
      "source": [
        "sum = user_scores[0] \n",
        "for i in range (1, len(user_scores)):\n",
        "  sum += user_scores[i];\n",
        "  average = sum / len(user_scores)\n",
        "print (average)\n"
      ],
      "metadata": {
        "colab": {
          "base_uri": "https://localhost:8080/"
        },
        "id": "vDFu1jKz76Qq",
        "outputId": "8f67815d-9f19-4326-ebd1-4fdf4f8263a7"
      },
      "execution_count": null,
      "outputs": [
        {
          "output_type": "stream",
          "name": "stdout",
          "text": [
            "3.0\n"
          ]
        }
      ]
    },
    {
      "cell_type": "markdown",
      "metadata": {
        "id": "jTMkvZV2Krp6"
      },
      "source": [
        "***Задача 3. Одна из модификаций линейного поиска***\n",
        "\n",
        "Дан список операций по карте одного из клиентов. Операции могут быть положительными (зачисления на карту) и отрицательными (траты клиента). Найдите все зачисления на карту и выведите их сумму. Если зачислений не было, выведите 0. \n",
        "<br>\n",
        "Проверьте работоспособность программы на разных списках.\n",
        "\n",
        "Пример:\n",
        "<br>\n",
        "Input: `transactions = [−100, −200, −100, 1000, 50, −90]`\n",
        "<br>\n",
        "Output: `1050`\n"
      ]
    },
    {
      "cell_type": "code",
      "metadata": {
        "id": "sf2ZgDDZNeCI"
      },
      "source": [
        "transactions = [-1000, -200, -90, -80, -78, -61, 200, -9, -31, 200, 600, -100, 1000]"
      ],
      "execution_count": null,
      "outputs": []
    },
    {
      "cell_type": "code",
      "metadata": {
        "id": "xcqTzfQUNnd-",
        "colab": {
          "base_uri": "https://localhost:8080/"
        },
        "outputId": "f4ff2c92-b5ab-4143-a8bf-9c42f8212bf5"
      },
      "source": [
        "# Ваш код здес\n",
        "coming_money = 0\n",
        "for i in range (0, len(transactions)):\n",
        "  if transactions[i] > 0:\n",
        "    coming_money += transactions[i]\n",
        "print (coming_money)\n",
        "    \n"
      ],
      "execution_count": null,
      "outputs": [
        {
          "output_type": "stream",
          "name": "stdout",
          "text": [
            "2000\n"
          ]
        }
      ]
    },
    {
      "cell_type": "code",
      "source": [
        "transactions = [-100, -200, -100, 1000, 50, -90]"
      ],
      "metadata": {
        "id": "4U3V8U-wBFGV"
      },
      "execution_count": null,
      "outputs": []
    },
    {
      "cell_type": "code",
      "source": [
        "# Ваш код здесь\n",
        "coming_money = 0 \n",
        "for i in range (1, len(transactions)):\n",
        "  if transactions [i] >  0: \n",
        "    coming_money += transactions [i];\n",
        "print (coming_money)"
      ],
      "metadata": {
        "colab": {
          "base_uri": "https://localhost:8080/"
        },
        "id": "SCCcMlMbBKOK",
        "outputId": "97e1916f-b924-46df-8a75-8dcc2f05f679"
      },
      "execution_count": null,
      "outputs": [
        {
          "output_type": "stream",
          "name": "stdout",
          "text": [
            "1050\n"
          ]
        }
      ]
    },
    {
      "cell_type": "markdown",
      "metadata": {
        "id": "yOoi9BhAOGdP"
      },
      "source": [
        "***Задача 4. Сложность бинарного поиска***\n",
        "\n",
        "Реализуйте алгоритм бинарного поиска, который ищет значение `key` в отсортированном списке `my_list`. Выведите на экран следующую информацию:\n",
        "- `True` — если элемент найден, `False` — если не найден.\n",
        "<br>\n",
        "- Количество сравнений с серединным элементом, которое было совершено, чтобы завершить бинарный поиск.\n",
        "<br>\n",
        "\n",
        "Проверьте работоспособность программы на разных списках.\n",
        "\n",
        "Пример: \n",
        "<br>\n",
        "Input: `my_list = [100, 200, 700, 1000, 1200] key = 1000` \n",
        "<br>\n",
        "Output: `True`, `2`\n"
      ]
    },
    {
      "cell_type": "code",
      "metadata": {
        "id": "owjAWIxZPmkE"
      },
      "source": [
        "my_list = [0, 20, 30, 34, 45, 56, 67, 78, 90, 100, 110]\n",
        "key = 89"
      ],
      "execution_count": null,
      "outputs": []
    },
    {
      "cell_type": "code",
      "metadata": {
        "id": "dfnjdpf2Pwse",
        "colab": {
          "base_uri": "https://localhost:8080/"
        },
        "outputId": "0d5ef86c-085f-4c08-dbb2-9d5d50866aa9"
      },
      "source": [
        "B = 0 \n",
        "E = len(my_list) - 1\n",
        "found = False \n",
        "\n",
        "while not found: \n",
        "  mid_index = int ((B + E) / 2)\n",
        "  mid_value = my_list[mid_index]\n",
        "  if mid_value == key: \n",
        "    found == True\n",
        "  elif B == E:\n",
        "    break \n",
        "  elif mid_value < key: \n",
        "    B = mid_index + 1\n",
        "  else:\n",
        "    E = mid_index - 1\n",
        "print(found)\n"
      ],
      "execution_count": null,
      "outputs": [
        {
          "output_type": "stream",
          "name": "stdout",
          "text": [
            "False\n"
          ]
        }
      ]
    },
    {
      "cell_type": "code",
      "source": [
        "my_list = [100, 200, 700, 1000, 1200]\n",
        "key = 1000"
      ],
      "metadata": {
        "id": "xTDKJ6sFWiKo"
      },
      "execution_count": null,
      "outputs": []
    },
    {
      "cell_type": "code",
      "source": [
        "B = 0 \n",
        "E = len(my_list) - 1\n",
        "found = False \n",
        "\n",
        "while not found: \n",
        "  mid_index = int((B + E) / 2)\n",
        "  mid_value = my_list[mid_index]\n",
        "  if mid_value == key: \n",
        "    found == True\n",
        "  elif B == E:\n",
        "    break \n",
        "  elif mid_value < key: \n",
        "    B = mid_index + 1\n",
        "  else:\n",
        "    E = mid_index - 1\n",
        "\n",
        "print(found)"
      ],
      "metadata": {
        "colab": {
          "base_uri": "https://localhost:8080/",
          "height": 234
        },
        "id": "VJuy9pKZWsik",
        "outputId": "701d4797-8839-4f5c-b70e-374c199bde44"
      },
      "execution_count": null,
      "outputs": [
        {
          "output_type": "error",
          "ename": "KeyboardInterrupt",
          "evalue": "ignored",
          "traceback": [
            "\u001b[0;31m---------------------------------------------------------------------------\u001b[0m",
            "\u001b[0;31mKeyboardInterrupt\u001b[0m                         Traceback (most recent call last)",
            "\u001b[0;32m<ipython-input-127-780704637c29>\u001b[0m in \u001b[0;36m<module>\u001b[0;34m()\u001b[0m\n\u001b[1;32m      4\u001b[0m \u001b[0;34m\u001b[0m\u001b[0m\n\u001b[1;32m      5\u001b[0m \u001b[0;32mwhile\u001b[0m \u001b[0;32mnot\u001b[0m \u001b[0mfound\u001b[0m\u001b[0;34m:\u001b[0m\u001b[0;34m\u001b[0m\u001b[0;34m\u001b[0m\u001b[0m\n\u001b[0;32m----> 6\u001b[0;31m   \u001b[0mmid_index\u001b[0m \u001b[0;34m=\u001b[0m \u001b[0mint\u001b[0m\u001b[0;34m(\u001b[0m\u001b[0;34m(\u001b[0m\u001b[0mB\u001b[0m \u001b[0;34m+\u001b[0m \u001b[0mE\u001b[0m\u001b[0;34m)\u001b[0m \u001b[0;34m/\u001b[0m \u001b[0;36m2\u001b[0m\u001b[0;34m)\u001b[0m\u001b[0;34m\u001b[0m\u001b[0;34m\u001b[0m\u001b[0m\n\u001b[0m\u001b[1;32m      7\u001b[0m   \u001b[0mmid_value\u001b[0m \u001b[0;34m=\u001b[0m \u001b[0mmy_list\u001b[0m\u001b[0;34m[\u001b[0m\u001b[0mmid_index\u001b[0m\u001b[0;34m]\u001b[0m\u001b[0;34m\u001b[0m\u001b[0;34m\u001b[0m\u001b[0m\n\u001b[1;32m      8\u001b[0m   \u001b[0;32mif\u001b[0m \u001b[0mmid_value\u001b[0m \u001b[0;34m==\u001b[0m \u001b[0mkey\u001b[0m\u001b[0;34m:\u001b[0m\u001b[0;34m\u001b[0m\u001b[0;34m\u001b[0m\u001b[0m\n",
            "\u001b[0;31mKeyboardInterrupt\u001b[0m: "
          ]
        }
      ]
    },
    {
      "cell_type": "markdown",
      "metadata": {
        "id": "6qojTxhbP5Ft"
      },
      "source": [
        "***Задача 5. Сортировка топ-2 элементов***\n",
        "\n",
        "У нас есть всё тот же список с транзакциями клиентов из первой задачи. Нам нужно отсортировать этот список таким образом, чтобы топ-2 максимальные транзакции оказались в конце списка, отсортированные по возрастанию. Порядок остальных элементов значения не имеет. Доработайте алгоритм сортировки пузырьком для решения этой задачи.\n",
        "<br>Проверьте работоспособность программы на разных списках.\n",
        "\n",
        "Пример:\n",
        "<br>\n",
        "Input: `transactions = [100, 200, 90, 70, 120]`\n",
        "<br>\n",
        "Output: `[90, 70, 100, 120, 200]`"
      ]
    },
    {
      "cell_type": "code",
      "metadata": {
        "id": "8S7QUzbesNC6"
      },
      "source": [
        "transactions = [100, 98, 1000, 2500, 299, 1898, 1989, 2001, 50, 10, 70]"
      ],
      "execution_count": null,
      "outputs": []
    },
    {
      "cell_type": "code",
      "metadata": {
        "id": "E549HRn4sNiq",
        "colab": {
          "base_uri": "https://localhost:8080/"
        },
        "outputId": "c892999b-a4a5-427d-f7af-5e48b4b4d9e6"
      },
      "source": [
        "# Ваш код здесь\n",
        "n = len(transactions)\n",
        "\n",
        "for i in range(1, n): \n",
        "  for j in range (0, n-i):\n",
        "    if transactions[j+1] < transactions [j]:\n",
        "      transactions[j], transactions[j+1] = transactions[j+1], transactions[j]\n",
        "  #print(j, j+1, end = ';')\n",
        "  if i > 1: \n",
        "    break \n",
        "print(transactions)\n",
        "    "
      ],
      "execution_count": null,
      "outputs": [
        {
          "output_type": "stream",
          "name": "stdout",
          "text": [
            "[98, 100, 299, 1000, 50, 10, 70, 1898, 1989, 2001, 2500]\n"
          ]
        }
      ]
    },
    {
      "cell_type": "code",
      "source": [
        "transactions = [100, 200, 90, 70, 120]"
      ],
      "metadata": {
        "id": "aQQ9I8O0zFNJ"
      },
      "execution_count": null,
      "outputs": []
    },
    {
      "cell_type": "code",
      "source": [
        "n = len(transactions)\n",
        "\n",
        "for i in range(1, n): \n",
        "  for j in range (0, n-i):\n",
        "    if transactions[j+1] < transactions [j]:\n",
        "      transactions[j], transactions[j+1] = transactions[j+1], transactions[j]\n",
        "   #print(j, j+1, end = ';')\n",
        "  if i > 1: \n",
        "    break \n",
        "print(transactions)"
      ],
      "metadata": {
        "colab": {
          "base_uri": "https://localhost:8080/"
        },
        "id": "mhMfCSwWzIwE",
        "outputId": "278dfa5c-d79c-4c86-ab0c-e663da788061"
      },
      "execution_count": null,
      "outputs": [
        {
          "output_type": "stream",
          "name": "stdout",
          "text": [
            "[90, 70, 100, 120, 200]\n"
          ]
        }
      ]
    },
    {
      "cell_type": "markdown",
      "metadata": {
        "id": "35spxoMExTbr"
      },
      "source": [
        "***Задача 6. Сравнительный анализ***\n",
        "\n",
        "Сравните количество операций, которое было совершено в задаче 1 для нахождения двух максимальных элементов на списке `transactions`, и количество операций, которое понадобится для нахождения максимальных методом из задачи 5 в том же списке. Какой метод лучше?\n",
        "Напишите ваше объяснение.\n"
      ]
    },
    {
      "cell_type": "markdown",
      "metadata": {
        "id": "ofene0nWyUdN"
      },
      "source": [
        "Напишите ваше объяснение тут\n",
        "\n",
        "> \n",
        "\n"
      ]
    },
    {
      "cell_type": "markdown",
      "source": [
        "В задаче №1 всего выполняется 20 операций. В задаче №2 выполняется 19 операций. Думаю что, метод №2 лучше так как он находит самое максимальное значение, и в следующий раз (когда приступает к поиску следующего максимального числа) уже не рассматривает макс_1 число"
      ],
      "metadata": {
        "id": "ZPMToggk8eSO"
      }
    },
    {
      "cell_type": "markdown",
      "metadata": {
        "id": "z5b4muZyRJDc"
      },
      "source": [
        "\n",
        "\n",
        "---\n",
        "\n",
        "\n",
        "---\n",
        "\n"
      ]
    },
    {
      "cell_type": "markdown",
      "metadata": {
        "id": "NKZ9uCK2RBKI"
      },
      "source": [
        "**Дополнительные задачи**"
      ]
    },
    {
      "cell_type": "markdown",
      "metadata": {
        "id": "EuD4mzU7IFrU"
      },
      "source": [
        "***Задача 7. Индекс минимального элемента в списке***\n",
        "\n",
        "Дан список `week_data` из семи элементов, который хранит в себе количество обращений, обработанных кол-центром в каждый день недели. Выведите порядковый номер дня, в который было обработано меньше всего обращений. \n",
        "<br>\n",
        "Проверьте работоспособность программы на разных списках.\n",
        "\n",
        "Пример:\n",
        "<br>\n",
        "Input: `week_data = [1, 20, 12, 35, 0, 7, 8]`\n",
        "<br>\n",
        "Output: `5`\n"
      ]
    },
    {
      "cell_type": "code",
      "metadata": {
        "id": "EwWve8wiKd8w"
      },
      "source": [
        "week_data = [8, 10, 9, 8, 13, 5, 17]"
      ],
      "execution_count": null,
      "outputs": []
    },
    {
      "cell_type": "code",
      "metadata": {
        "id": "h07zDfxHKjrE",
        "colab": {
          "base_uri": "https://localhost:8080/"
        },
        "outputId": "3d81a053-3f9e-4f18-acc9-37c8f23e40b3"
      },
      "source": [
        "# Ваш код здесь\n",
        "min_value = week_data[0]\n",
        "for i in range (1, len(week_data)):\n",
        "  if min_value > week_data[i]: \n",
        "    min_value = week_data[i]\n",
        "    print(i+1)"
      ],
      "execution_count": null,
      "outputs": [
        {
          "output_type": "stream",
          "name": "stdout",
          "text": [
            "6\n"
          ]
        }
      ]
    },
    {
      "cell_type": "code",
      "source": [
        "week_data = [1, 20, 12, 35, 0, 7, 8]"
      ],
      "metadata": {
        "id": "LCNl0LORN1Yl"
      },
      "execution_count": null,
      "outputs": []
    },
    {
      "cell_type": "code",
      "source": [
        "# Ваш код здесь\n",
        "min_value = week_data[0]\n",
        "for i in range (1, len(week_data)):\n",
        "  if min_value > week_data[i]: \n",
        "    min_value = week_data[i]\n",
        "    print(i+1)"
      ],
      "metadata": {
        "colab": {
          "base_uri": "https://localhost:8080/"
        },
        "id": "d-U7AWFfN3me",
        "outputId": "1c28673d-e161-4ad4-b1a9-3bc3164cbd30"
      },
      "execution_count": null,
      "outputs": [
        {
          "output_type": "stream",
          "name": "stdout",
          "text": [
            "5\n"
          ]
        }
      ]
    },
    {
      "cell_type": "markdown",
      "metadata": {
        "id": "K1O36tIn0TRo"
      },
      "source": [
        "***Задача 8. Подсчёт чётных элементов в списке***\n",
        "\n",
        "Дан всё тот же список `week_data` из семи элементов, в котором лежит количество обращений, обработанных кол-центром. Выведите порядковые номера дней, в которые количество обращений было чётное. \n",
        "<br>\n",
        "Проверьте работоспособность программы на разных списках.\n",
        "\n",
        "Пример:\n",
        "<br>\n",
        "Input: `week_data = [1, 20, 12, 35, 0, 7, 8]`\n",
        "<br>\n",
        "Output: `2, 3, 7`\n"
      ]
    },
    {
      "cell_type": "code",
      "metadata": {
        "id": "9JGx01XCCgRu"
      },
      "source": [
        "week_data = [8, 10, 9, 8, 13, 5, 17]"
      ],
      "execution_count": null,
      "outputs": []
    },
    {
      "cell_type": "code",
      "metadata": {
        "id": "uiYSE3l1RDJn",
        "colab": {
          "base_uri": "https://localhost:8080/"
        },
        "outputId": "825f70c6-4a12-4e82-9aeb-f53c8dd52d07"
      },
      "source": [
        "# Ваш код здесь\n",
        "for i in range (0, len(week_data)): \n",
        "  if week_data[i] % 2 == 0 and week_data[i] !=0: \n",
        "    print(i+1, end = ' ')"
      ],
      "execution_count": null,
      "outputs": [
        {
          "output_type": "stream",
          "name": "stdout",
          "text": [
            "1 2 4 "
          ]
        }
      ]
    },
    {
      "cell_type": "code",
      "source": [
        "week_data = [1, 20, 12, 35, 0, 7, 8]"
      ],
      "metadata": {
        "id": "j7dJC5m3UFAT"
      },
      "execution_count": null,
      "outputs": []
    },
    {
      "cell_type": "code",
      "source": [
        "# Ваш код здесь\n",
        "for i in range (0, len(week_data)): \n",
        "  if week_data[i] % 2 == 0 and week_data[i] !=0: \n",
        "    print(i+1, end = ' ')\n"
      ],
      "metadata": {
        "colab": {
          "base_uri": "https://localhost:8080/"
        },
        "id": "F_Eg_85fUG20",
        "outputId": "0f23da56-45f9-4287-9001-de8d312b1b8c"
      },
      "execution_count": null,
      "outputs": [
        {
          "output_type": "stream",
          "name": "stdout",
          "text": [
            "2 3 7 "
          ]
        }
      ]
    },
    {
      "cell_type": "code",
      "metadata": {
        "id": "YrEEPfDlEAu8"
      },
      "source": [
        "user_scores = [1, 5, 5, 1, 5, 5, 5, 2, 5, 5, 1, 5]"
      ],
      "execution_count": null,
      "outputs": []
    },
    {
      "cell_type": "code",
      "metadata": {
        "id": "vfAhoD-yJtyc"
      },
      "source": [
        ""
      ],
      "execution_count": null,
      "outputs": []
    }
  ]
}